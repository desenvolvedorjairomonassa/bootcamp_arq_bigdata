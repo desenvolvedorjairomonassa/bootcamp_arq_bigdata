{
  "nbformat": 4,
  "nbformat_minor": 0,
  "metadata": {
    "colab": {
      "name": "trabalhocoleta.ipynb",
      "provenance": []
    },
    "kernelspec": {
      "name": "python3",
      "display_name": "Python 3"
    },
    "language_info": {
      "name": "python"
    }
  },
  "cells": [
    {
      "cell_type": "code",
      "execution_count": 50,
      "metadata": {
        "id": "-sSmzYfLg6kc"
      },
      "outputs": [],
      "source": [
        "#importando pandas\n",
        "import pandas as pd\n",
        "df = pd.read_csv(\"https://raw.githubusercontent.com/desenvolvedorjairomonassa/bootcamp_arq_bigdata/main/modulo2/pessoas.csv\",sep=',',encoding='utf-8')"
      ]
    },
    {
      "cell_type": "code",
      "source": [
        "df"
      ],
      "metadata": {
        "colab": {
          "base_uri": "https://localhost:8080/",
          "height": 424
        },
        "id": "M7BVNyaEhCPE",
        "outputId": "5159ee7e-0af9-425f-8896-669c29e77b17"
      },
      "execution_count": 51,
      "outputs": [
        {
          "output_type": "execute_result",
          "data": {
            "text/plain": [
              "      cod_pessoa data_coleta     genero data_nascimento animal_estimacao  \\\n",
              "0       10141743    1/1/2020  Masculino       4/25/1981            peixe   \n",
              "1       10141860    1/1/2020   Feminino       1/19/1966            peixe   \n",
              "2       10142548    1/1/2020  Masculino        8/2/1973        tartaruga   \n",
              "3       10142591    1/1/2020  Masculino        3/5/1997             gato   \n",
              "4       10142654    1/1/2020   Feminino        8/5/1969        tartaruga   \n",
              "...          ...         ...        ...             ...              ...   \n",
              "2122    10142475  12/31/2020  Masculino       5/30/1955            peixe   \n",
              "2123    10142522  12/31/2020  Masculino      12/22/1954            peixe   \n",
              "2124    10142881  12/31/2020  Masculino       7/30/1952             gato   \n",
              "2125    10143184  12/31/2020  Masculino        6/5/1984        tartaruga   \n",
              "2126    10143307  12/31/2020  Masculino       8/29/1971        tartaruga   \n",
              "\n",
              "         clima bebida_favorita             hobbies  \n",
              "0         frio         Cerveja    Praticar esporte  \n",
              "1       quente            Café         Assistir TV  \n",
              "2         frio            Café          Ler livros  \n",
              "3     moderado         Cerveja  Aprender algo novo  \n",
              "4     moderado            Café         Assistir TV  \n",
              "...        ...             ...                 ...  \n",
              "2122    quente            Café    Praticar esporte  \n",
              "2123  moderado         Cerveja    Praticar esporte  \n",
              "2124      frio    refrigerante         Assistir TV  \n",
              "2125    quente    refrigerante      Pintar quadros  \n",
              "2126  moderado    refrigerante      Pintar quadros  \n",
              "\n",
              "[2127 rows x 8 columns]"
            ],
            "text/html": [
              "\n",
              "  <div id=\"df-fef40f8a-d619-401b-b326-37fb81dadef7\">\n",
              "    <div class=\"colab-df-container\">\n",
              "      <div>\n",
              "<style scoped>\n",
              "    .dataframe tbody tr th:only-of-type {\n",
              "        vertical-align: middle;\n",
              "    }\n",
              "\n",
              "    .dataframe tbody tr th {\n",
              "        vertical-align: top;\n",
              "    }\n",
              "\n",
              "    .dataframe thead th {\n",
              "        text-align: right;\n",
              "    }\n",
              "</style>\n",
              "<table border=\"1\" class=\"dataframe\">\n",
              "  <thead>\n",
              "    <tr style=\"text-align: right;\">\n",
              "      <th></th>\n",
              "      <th>cod_pessoa</th>\n",
              "      <th>data_coleta</th>\n",
              "      <th>genero</th>\n",
              "      <th>data_nascimento</th>\n",
              "      <th>animal_estimacao</th>\n",
              "      <th>clima</th>\n",
              "      <th>bebida_favorita</th>\n",
              "      <th>hobbies</th>\n",
              "    </tr>\n",
              "  </thead>\n",
              "  <tbody>\n",
              "    <tr>\n",
              "      <th>0</th>\n",
              "      <td>10141743</td>\n",
              "      <td>1/1/2020</td>\n",
              "      <td>Masculino</td>\n",
              "      <td>4/25/1981</td>\n",
              "      <td>peixe</td>\n",
              "      <td>frio</td>\n",
              "      <td>Cerveja</td>\n",
              "      <td>Praticar esporte</td>\n",
              "    </tr>\n",
              "    <tr>\n",
              "      <th>1</th>\n",
              "      <td>10141860</td>\n",
              "      <td>1/1/2020</td>\n",
              "      <td>Feminino</td>\n",
              "      <td>1/19/1966</td>\n",
              "      <td>peixe</td>\n",
              "      <td>quente</td>\n",
              "      <td>Café</td>\n",
              "      <td>Assistir TV</td>\n",
              "    </tr>\n",
              "    <tr>\n",
              "      <th>2</th>\n",
              "      <td>10142548</td>\n",
              "      <td>1/1/2020</td>\n",
              "      <td>Masculino</td>\n",
              "      <td>8/2/1973</td>\n",
              "      <td>tartaruga</td>\n",
              "      <td>frio</td>\n",
              "      <td>Café</td>\n",
              "      <td>Ler livros</td>\n",
              "    </tr>\n",
              "    <tr>\n",
              "      <th>3</th>\n",
              "      <td>10142591</td>\n",
              "      <td>1/1/2020</td>\n",
              "      <td>Masculino</td>\n",
              "      <td>3/5/1997</td>\n",
              "      <td>gato</td>\n",
              "      <td>moderado</td>\n",
              "      <td>Cerveja</td>\n",
              "      <td>Aprender algo novo</td>\n",
              "    </tr>\n",
              "    <tr>\n",
              "      <th>4</th>\n",
              "      <td>10142654</td>\n",
              "      <td>1/1/2020</td>\n",
              "      <td>Feminino</td>\n",
              "      <td>8/5/1969</td>\n",
              "      <td>tartaruga</td>\n",
              "      <td>moderado</td>\n",
              "      <td>Café</td>\n",
              "      <td>Assistir TV</td>\n",
              "    </tr>\n",
              "    <tr>\n",
              "      <th>...</th>\n",
              "      <td>...</td>\n",
              "      <td>...</td>\n",
              "      <td>...</td>\n",
              "      <td>...</td>\n",
              "      <td>...</td>\n",
              "      <td>...</td>\n",
              "      <td>...</td>\n",
              "      <td>...</td>\n",
              "    </tr>\n",
              "    <tr>\n",
              "      <th>2122</th>\n",
              "      <td>10142475</td>\n",
              "      <td>12/31/2020</td>\n",
              "      <td>Masculino</td>\n",
              "      <td>5/30/1955</td>\n",
              "      <td>peixe</td>\n",
              "      <td>quente</td>\n",
              "      <td>Café</td>\n",
              "      <td>Praticar esporte</td>\n",
              "    </tr>\n",
              "    <tr>\n",
              "      <th>2123</th>\n",
              "      <td>10142522</td>\n",
              "      <td>12/31/2020</td>\n",
              "      <td>Masculino</td>\n",
              "      <td>12/22/1954</td>\n",
              "      <td>peixe</td>\n",
              "      <td>moderado</td>\n",
              "      <td>Cerveja</td>\n",
              "      <td>Praticar esporte</td>\n",
              "    </tr>\n",
              "    <tr>\n",
              "      <th>2124</th>\n",
              "      <td>10142881</td>\n",
              "      <td>12/31/2020</td>\n",
              "      <td>Masculino</td>\n",
              "      <td>7/30/1952</td>\n",
              "      <td>gato</td>\n",
              "      <td>frio</td>\n",
              "      <td>refrigerante</td>\n",
              "      <td>Assistir TV</td>\n",
              "    </tr>\n",
              "    <tr>\n",
              "      <th>2125</th>\n",
              "      <td>10143184</td>\n",
              "      <td>12/31/2020</td>\n",
              "      <td>Masculino</td>\n",
              "      <td>6/5/1984</td>\n",
              "      <td>tartaruga</td>\n",
              "      <td>quente</td>\n",
              "      <td>refrigerante</td>\n",
              "      <td>Pintar quadros</td>\n",
              "    </tr>\n",
              "    <tr>\n",
              "      <th>2126</th>\n",
              "      <td>10143307</td>\n",
              "      <td>12/31/2020</td>\n",
              "      <td>Masculino</td>\n",
              "      <td>8/29/1971</td>\n",
              "      <td>tartaruga</td>\n",
              "      <td>moderado</td>\n",
              "      <td>refrigerante</td>\n",
              "      <td>Pintar quadros</td>\n",
              "    </tr>\n",
              "  </tbody>\n",
              "</table>\n",
              "<p>2127 rows × 8 columns</p>\n",
              "</div>\n",
              "      <button class=\"colab-df-convert\" onclick=\"convertToInteractive('df-fef40f8a-d619-401b-b326-37fb81dadef7')\"\n",
              "              title=\"Convert this dataframe to an interactive table.\"\n",
              "              style=\"display:none;\">\n",
              "        \n",
              "  <svg xmlns=\"http://www.w3.org/2000/svg\" height=\"24px\"viewBox=\"0 0 24 24\"\n",
              "       width=\"24px\">\n",
              "    <path d=\"M0 0h24v24H0V0z\" fill=\"none\"/>\n",
              "    <path d=\"M18.56 5.44l.94 2.06.94-2.06 2.06-.94-2.06-.94-.94-2.06-.94 2.06-2.06.94zm-11 1L8.5 8.5l.94-2.06 2.06-.94-2.06-.94L8.5 2.5l-.94 2.06-2.06.94zm10 10l.94 2.06.94-2.06 2.06-.94-2.06-.94-.94-2.06-.94 2.06-2.06.94z\"/><path d=\"M17.41 7.96l-1.37-1.37c-.4-.4-.92-.59-1.43-.59-.52 0-1.04.2-1.43.59L10.3 9.45l-7.72 7.72c-.78.78-.78 2.05 0 2.83L4 21.41c.39.39.9.59 1.41.59.51 0 1.02-.2 1.41-.59l7.78-7.78 2.81-2.81c.8-.78.8-2.07 0-2.86zM5.41 20L4 18.59l7.72-7.72 1.47 1.35L5.41 20z\"/>\n",
              "  </svg>\n",
              "      </button>\n",
              "      \n",
              "  <style>\n",
              "    .colab-df-container {\n",
              "      display:flex;\n",
              "      flex-wrap:wrap;\n",
              "      gap: 12px;\n",
              "    }\n",
              "\n",
              "    .colab-df-convert {\n",
              "      background-color: #E8F0FE;\n",
              "      border: none;\n",
              "      border-radius: 50%;\n",
              "      cursor: pointer;\n",
              "      display: none;\n",
              "      fill: #1967D2;\n",
              "      height: 32px;\n",
              "      padding: 0 0 0 0;\n",
              "      width: 32px;\n",
              "    }\n",
              "\n",
              "    .colab-df-convert:hover {\n",
              "      background-color: #E2EBFA;\n",
              "      box-shadow: 0px 1px 2px rgba(60, 64, 67, 0.3), 0px 1px 3px 1px rgba(60, 64, 67, 0.15);\n",
              "      fill: #174EA6;\n",
              "    }\n",
              "\n",
              "    [theme=dark] .colab-df-convert {\n",
              "      background-color: #3B4455;\n",
              "      fill: #D2E3FC;\n",
              "    }\n",
              "\n",
              "    [theme=dark] .colab-df-convert:hover {\n",
              "      background-color: #434B5C;\n",
              "      box-shadow: 0px 1px 3px 1px rgba(0, 0, 0, 0.15);\n",
              "      filter: drop-shadow(0px 1px 2px rgba(0, 0, 0, 0.3));\n",
              "      fill: #FFFFFF;\n",
              "    }\n",
              "  </style>\n",
              "\n",
              "      <script>\n",
              "        const buttonEl =\n",
              "          document.querySelector('#df-fef40f8a-d619-401b-b326-37fb81dadef7 button.colab-df-convert');\n",
              "        buttonEl.style.display =\n",
              "          google.colab.kernel.accessAllowed ? 'block' : 'none';\n",
              "\n",
              "        async function convertToInteractive(key) {\n",
              "          const element = document.querySelector('#df-fef40f8a-d619-401b-b326-37fb81dadef7');\n",
              "          const dataTable =\n",
              "            await google.colab.kernel.invokeFunction('convertToInteractive',\n",
              "                                                     [key], {});\n",
              "          if (!dataTable) return;\n",
              "\n",
              "          const docLinkHtml = 'Like what you see? Visit the ' +\n",
              "            '<a target=\"_blank\" href=https://colab.research.google.com/notebooks/data_table.ipynb>data table notebook</a>'\n",
              "            + ' to learn more about interactive tables.';\n",
              "          element.innerHTML = '';\n",
              "          dataTable['output_type'] = 'display_data';\n",
              "          await google.colab.output.renderOutput(dataTable, element);\n",
              "          const docLink = document.createElement('div');\n",
              "          docLink.innerHTML = docLinkHtml;\n",
              "          element.appendChild(docLink);\n",
              "        }\n",
              "      </script>\n",
              "    </div>\n",
              "  </div>\n",
              "  "
            ]
          },
          "metadata": {},
          "execution_count": 51
        }
      ]
    },
    {
      "cell_type": "code",
      "source": [
        "df.info()"
      ],
      "metadata": {
        "colab": {
          "base_uri": "https://localhost:8080/"
        },
        "id": "aw3KfXGyhI4r",
        "outputId": "59ae2c11-d0f3-4ca5-c024-a2d4e4f8faa2"
      },
      "execution_count": 52,
      "outputs": [
        {
          "output_type": "stream",
          "name": "stdout",
          "text": [
            "<class 'pandas.core.frame.DataFrame'>\n",
            "RangeIndex: 2127 entries, 0 to 2126\n",
            "Data columns (total 8 columns):\n",
            " #   Column            Non-Null Count  Dtype \n",
            "---  ------            --------------  ----- \n",
            " 0   cod_pessoa        2127 non-null   int64 \n",
            " 1   data_coleta       2127 non-null   object\n",
            " 2   genero            2127 non-null   object\n",
            " 3   data_nascimento   2127 non-null   object\n",
            " 4   animal_estimacao  2127 non-null   object\n",
            " 5   clima             2127 non-null   object\n",
            " 6   bebida_favorita   2127 non-null   object\n",
            " 7   hobbies           2127 non-null   object\n",
            "dtypes: int64(1), object(7)\n",
            "memory usage: 133.1+ KB\n"
          ]
        }
      ]
    },
    {
      "cell_type": "code",
      "source": [
        "#Quantas pessoas do gênero masculino gostam de tartaruga? \n",
        "df.loc[(df['genero']=='Masculino')&(df['animal_estimacao']=='tartaruga')]['animal_estimacao'].count()"
      ],
      "metadata": {
        "colab": {
          "base_uri": "https://localhost:8080/"
        },
        "id": "grznOhwuxJwF",
        "outputId": "85ccafae-e4e4-43bd-f269-676376c4136f"
      },
      "execution_count": 53,
      "outputs": [
        {
          "output_type": "execute_result",
          "data": {
            "text/plain": [
              "268"
            ]
          },
          "metadata": {},
          "execution_count": 53
        }
      ]
    },
    {
      "cell_type": "code",
      "source": [
        "#conversão simples de data ano-mes-dia\n",
        "df['data_coleta'] = pd.to_datetime(df['data_coleta'])\n",
        "df['data_nascimento'] = pd.to_datetime(df['data_nascimento'], infer_datetime_format=True)"
      ],
      "metadata": {
        "id": "julIzPOWhR_E"
      },
      "execution_count": 54,
      "outputs": []
    },
    {
      "cell_type": "code",
      "source": [
        "import datetime\n",
        "def age(born):\n",
        "  today = datetime.date.today()\n",
        "  return today.year - born.year - ((today.month, today.day) < (born.month, born.day))\n",
        "\n",
        "df['idade'] = df['data_nascimento'].map(lambda x: age(x))"
      ],
      "metadata": {
        "id": "CdwDYSdTqqPA"
      },
      "execution_count": 55,
      "outputs": []
    },
    {
      "cell_type": "code",
      "source": [
        "df"
      ],
      "metadata": {
        "colab": {
          "base_uri": "https://localhost:8080/",
          "height": 424
        },
        "id": "r2AO0mveyKzi",
        "outputId": "b47dfe67-7cf9-4c22-a789-1f4c4df51e2a"
      },
      "execution_count": 56,
      "outputs": [
        {
          "output_type": "execute_result",
          "data": {
            "text/plain": [
              "      cod_pessoa data_coleta     genero data_nascimento animal_estimacao  \\\n",
              "0       10141743  2020-01-01  Masculino      1981-04-25            peixe   \n",
              "1       10141860  2020-01-01   Feminino      1966-01-19            peixe   \n",
              "2       10142548  2020-01-01  Masculino      1973-08-02        tartaruga   \n",
              "3       10142591  2020-01-01  Masculino      1997-03-05             gato   \n",
              "4       10142654  2020-01-01   Feminino      1969-08-05        tartaruga   \n",
              "...          ...         ...        ...             ...              ...   \n",
              "2122    10142475  2020-12-31  Masculino      1955-05-30            peixe   \n",
              "2123    10142522  2020-12-31  Masculino      1954-12-22            peixe   \n",
              "2124    10142881  2020-12-31  Masculino      1952-07-30             gato   \n",
              "2125    10143184  2020-12-31  Masculino      1984-06-05        tartaruga   \n",
              "2126    10143307  2020-12-31  Masculino      1971-08-29        tartaruga   \n",
              "\n",
              "         clima bebida_favorita             hobbies  idade  \n",
              "0         frio         Cerveja    Praticar esporte     40  \n",
              "1       quente            Café         Assistir TV     56  \n",
              "2         frio            Café          Ler livros     48  \n",
              "3     moderado         Cerveja  Aprender algo novo     25  \n",
              "4     moderado            Café         Assistir TV     52  \n",
              "...        ...             ...                 ...    ...  \n",
              "2122    quente            Café    Praticar esporte     66  \n",
              "2123  moderado         Cerveja    Praticar esporte     67  \n",
              "2124      frio    refrigerante         Assistir TV     69  \n",
              "2125    quente    refrigerante      Pintar quadros     37  \n",
              "2126  moderado    refrigerante      Pintar quadros     50  \n",
              "\n",
              "[2127 rows x 9 columns]"
            ],
            "text/html": [
              "\n",
              "  <div id=\"df-85cb0304-8c77-45b2-8138-728f16f10bd3\">\n",
              "    <div class=\"colab-df-container\">\n",
              "      <div>\n",
              "<style scoped>\n",
              "    .dataframe tbody tr th:only-of-type {\n",
              "        vertical-align: middle;\n",
              "    }\n",
              "\n",
              "    .dataframe tbody tr th {\n",
              "        vertical-align: top;\n",
              "    }\n",
              "\n",
              "    .dataframe thead th {\n",
              "        text-align: right;\n",
              "    }\n",
              "</style>\n",
              "<table border=\"1\" class=\"dataframe\">\n",
              "  <thead>\n",
              "    <tr style=\"text-align: right;\">\n",
              "      <th></th>\n",
              "      <th>cod_pessoa</th>\n",
              "      <th>data_coleta</th>\n",
              "      <th>genero</th>\n",
              "      <th>data_nascimento</th>\n",
              "      <th>animal_estimacao</th>\n",
              "      <th>clima</th>\n",
              "      <th>bebida_favorita</th>\n",
              "      <th>hobbies</th>\n",
              "      <th>idade</th>\n",
              "    </tr>\n",
              "  </thead>\n",
              "  <tbody>\n",
              "    <tr>\n",
              "      <th>0</th>\n",
              "      <td>10141743</td>\n",
              "      <td>2020-01-01</td>\n",
              "      <td>Masculino</td>\n",
              "      <td>1981-04-25</td>\n",
              "      <td>peixe</td>\n",
              "      <td>frio</td>\n",
              "      <td>Cerveja</td>\n",
              "      <td>Praticar esporte</td>\n",
              "      <td>40</td>\n",
              "    </tr>\n",
              "    <tr>\n",
              "      <th>1</th>\n",
              "      <td>10141860</td>\n",
              "      <td>2020-01-01</td>\n",
              "      <td>Feminino</td>\n",
              "      <td>1966-01-19</td>\n",
              "      <td>peixe</td>\n",
              "      <td>quente</td>\n",
              "      <td>Café</td>\n",
              "      <td>Assistir TV</td>\n",
              "      <td>56</td>\n",
              "    </tr>\n",
              "    <tr>\n",
              "      <th>2</th>\n",
              "      <td>10142548</td>\n",
              "      <td>2020-01-01</td>\n",
              "      <td>Masculino</td>\n",
              "      <td>1973-08-02</td>\n",
              "      <td>tartaruga</td>\n",
              "      <td>frio</td>\n",
              "      <td>Café</td>\n",
              "      <td>Ler livros</td>\n",
              "      <td>48</td>\n",
              "    </tr>\n",
              "    <tr>\n",
              "      <th>3</th>\n",
              "      <td>10142591</td>\n",
              "      <td>2020-01-01</td>\n",
              "      <td>Masculino</td>\n",
              "      <td>1997-03-05</td>\n",
              "      <td>gato</td>\n",
              "      <td>moderado</td>\n",
              "      <td>Cerveja</td>\n",
              "      <td>Aprender algo novo</td>\n",
              "      <td>25</td>\n",
              "    </tr>\n",
              "    <tr>\n",
              "      <th>4</th>\n",
              "      <td>10142654</td>\n",
              "      <td>2020-01-01</td>\n",
              "      <td>Feminino</td>\n",
              "      <td>1969-08-05</td>\n",
              "      <td>tartaruga</td>\n",
              "      <td>moderado</td>\n",
              "      <td>Café</td>\n",
              "      <td>Assistir TV</td>\n",
              "      <td>52</td>\n",
              "    </tr>\n",
              "    <tr>\n",
              "      <th>...</th>\n",
              "      <td>...</td>\n",
              "      <td>...</td>\n",
              "      <td>...</td>\n",
              "      <td>...</td>\n",
              "      <td>...</td>\n",
              "      <td>...</td>\n",
              "      <td>...</td>\n",
              "      <td>...</td>\n",
              "      <td>...</td>\n",
              "    </tr>\n",
              "    <tr>\n",
              "      <th>2122</th>\n",
              "      <td>10142475</td>\n",
              "      <td>2020-12-31</td>\n",
              "      <td>Masculino</td>\n",
              "      <td>1955-05-30</td>\n",
              "      <td>peixe</td>\n",
              "      <td>quente</td>\n",
              "      <td>Café</td>\n",
              "      <td>Praticar esporte</td>\n",
              "      <td>66</td>\n",
              "    </tr>\n",
              "    <tr>\n",
              "      <th>2123</th>\n",
              "      <td>10142522</td>\n",
              "      <td>2020-12-31</td>\n",
              "      <td>Masculino</td>\n",
              "      <td>1954-12-22</td>\n",
              "      <td>peixe</td>\n",
              "      <td>moderado</td>\n",
              "      <td>Cerveja</td>\n",
              "      <td>Praticar esporte</td>\n",
              "      <td>67</td>\n",
              "    </tr>\n",
              "    <tr>\n",
              "      <th>2124</th>\n",
              "      <td>10142881</td>\n",
              "      <td>2020-12-31</td>\n",
              "      <td>Masculino</td>\n",
              "      <td>1952-07-30</td>\n",
              "      <td>gato</td>\n",
              "      <td>frio</td>\n",
              "      <td>refrigerante</td>\n",
              "      <td>Assistir TV</td>\n",
              "      <td>69</td>\n",
              "    </tr>\n",
              "    <tr>\n",
              "      <th>2125</th>\n",
              "      <td>10143184</td>\n",
              "      <td>2020-12-31</td>\n",
              "      <td>Masculino</td>\n",
              "      <td>1984-06-05</td>\n",
              "      <td>tartaruga</td>\n",
              "      <td>quente</td>\n",
              "      <td>refrigerante</td>\n",
              "      <td>Pintar quadros</td>\n",
              "      <td>37</td>\n",
              "    </tr>\n",
              "    <tr>\n",
              "      <th>2126</th>\n",
              "      <td>10143307</td>\n",
              "      <td>2020-12-31</td>\n",
              "      <td>Masculino</td>\n",
              "      <td>1971-08-29</td>\n",
              "      <td>tartaruga</td>\n",
              "      <td>moderado</td>\n",
              "      <td>refrigerante</td>\n",
              "      <td>Pintar quadros</td>\n",
              "      <td>50</td>\n",
              "    </tr>\n",
              "  </tbody>\n",
              "</table>\n",
              "<p>2127 rows × 9 columns</p>\n",
              "</div>\n",
              "      <button class=\"colab-df-convert\" onclick=\"convertToInteractive('df-85cb0304-8c77-45b2-8138-728f16f10bd3')\"\n",
              "              title=\"Convert this dataframe to an interactive table.\"\n",
              "              style=\"display:none;\">\n",
              "        \n",
              "  <svg xmlns=\"http://www.w3.org/2000/svg\" height=\"24px\"viewBox=\"0 0 24 24\"\n",
              "       width=\"24px\">\n",
              "    <path d=\"M0 0h24v24H0V0z\" fill=\"none\"/>\n",
              "    <path d=\"M18.56 5.44l.94 2.06.94-2.06 2.06-.94-2.06-.94-.94-2.06-.94 2.06-2.06.94zm-11 1L8.5 8.5l.94-2.06 2.06-.94-2.06-.94L8.5 2.5l-.94 2.06-2.06.94zm10 10l.94 2.06.94-2.06 2.06-.94-2.06-.94-.94-2.06-.94 2.06-2.06.94z\"/><path d=\"M17.41 7.96l-1.37-1.37c-.4-.4-.92-.59-1.43-.59-.52 0-1.04.2-1.43.59L10.3 9.45l-7.72 7.72c-.78.78-.78 2.05 0 2.83L4 21.41c.39.39.9.59 1.41.59.51 0 1.02-.2 1.41-.59l7.78-7.78 2.81-2.81c.8-.78.8-2.07 0-2.86zM5.41 20L4 18.59l7.72-7.72 1.47 1.35L5.41 20z\"/>\n",
              "  </svg>\n",
              "      </button>\n",
              "      \n",
              "  <style>\n",
              "    .colab-df-container {\n",
              "      display:flex;\n",
              "      flex-wrap:wrap;\n",
              "      gap: 12px;\n",
              "    }\n",
              "\n",
              "    .colab-df-convert {\n",
              "      background-color: #E8F0FE;\n",
              "      border: none;\n",
              "      border-radius: 50%;\n",
              "      cursor: pointer;\n",
              "      display: none;\n",
              "      fill: #1967D2;\n",
              "      height: 32px;\n",
              "      padding: 0 0 0 0;\n",
              "      width: 32px;\n",
              "    }\n",
              "\n",
              "    .colab-df-convert:hover {\n",
              "      background-color: #E2EBFA;\n",
              "      box-shadow: 0px 1px 2px rgba(60, 64, 67, 0.3), 0px 1px 3px 1px rgba(60, 64, 67, 0.15);\n",
              "      fill: #174EA6;\n",
              "    }\n",
              "\n",
              "    [theme=dark] .colab-df-convert {\n",
              "      background-color: #3B4455;\n",
              "      fill: #D2E3FC;\n",
              "    }\n",
              "\n",
              "    [theme=dark] .colab-df-convert:hover {\n",
              "      background-color: #434B5C;\n",
              "      box-shadow: 0px 1px 3px 1px rgba(0, 0, 0, 0.15);\n",
              "      filter: drop-shadow(0px 1px 2px rgba(0, 0, 0, 0.3));\n",
              "      fill: #FFFFFF;\n",
              "    }\n",
              "  </style>\n",
              "\n",
              "      <script>\n",
              "        const buttonEl =\n",
              "          document.querySelector('#df-85cb0304-8c77-45b2-8138-728f16f10bd3 button.colab-df-convert');\n",
              "        buttonEl.style.display =\n",
              "          google.colab.kernel.accessAllowed ? 'block' : 'none';\n",
              "\n",
              "        async function convertToInteractive(key) {\n",
              "          const element = document.querySelector('#df-85cb0304-8c77-45b2-8138-728f16f10bd3');\n",
              "          const dataTable =\n",
              "            await google.colab.kernel.invokeFunction('convertToInteractive',\n",
              "                                                     [key], {});\n",
              "          if (!dataTable) return;\n",
              "\n",
              "          const docLinkHtml = 'Like what you see? Visit the ' +\n",
              "            '<a target=\"_blank\" href=https://colab.research.google.com/notebooks/data_table.ipynb>data table notebook</a>'\n",
              "            + ' to learn more about interactive tables.';\n",
              "          element.innerHTML = '';\n",
              "          dataTable['output_type'] = 'display_data';\n",
              "          await google.colab.output.renderOutput(dataTable, element);\n",
              "          const docLink = document.createElement('div');\n",
              "          docLink.innerHTML = docLinkHtml;\n",
              "          element.appendChild(docLink);\n",
              "        }\n",
              "      </script>\n",
              "    </div>\n",
              "  </div>\n",
              "  "
            ]
          },
          "metadata": {},
          "execution_count": 56
        }
      ]
    },
    {
      "cell_type": "code",
      "source": [
        "#tamanho\n",
        "df.shape"
      ],
      "metadata": {
        "colab": {
          "base_uri": "https://localhost:8080/"
        },
        "id": "3iu-Pu84wYua",
        "outputId": "112a87fe-e8bf-422f-b3b5-43a3b935f265"
      },
      "execution_count": 57,
      "outputs": [
        {
          "output_type": "execute_result",
          "data": {
            "text/plain": [
              "(2127, 9)"
            ]
          },
          "metadata": {},
          "execution_count": 57
        }
      ]
    },
    {
      "cell_type": "code",
      "source": [
        "#numero de homes que gostam de cerveja\n",
        "print(df.loc[(df['genero']=='Masculino')&(df['bebida_favorita']=='Cerveja')]['cod_pessoa'].count())\n",
        "#Qual a média de idade dos homens que gostam de cerveja e clima quente? \n",
        "df.loc[(df['genero']=='Masculino')&(df['bebida_favorita']=='Cerveja')&(df['clima']=='quente')]['idade'].mean()"
      ],
      "metadata": {
        "colab": {
          "base_uri": "https://localhost:8080/"
        },
        "id": "f1cb5R8jxnr1",
        "outputId": "ce9519d7-3b6d-4cc3-fe6c-d071274a0ad6"
      },
      "execution_count": 58,
      "outputs": [
        {
          "output_type": "stream",
          "name": "stdout",
          "text": [
            "250\n"
          ]
        },
        {
          "output_type": "execute_result",
          "data": {
            "text/plain": [
              "45.671052631578945"
            ]
          },
          "metadata": {},
          "execution_count": 58
        }
      ]
    },
    {
      "cell_type": "code",
      "source": [
        "#Qual o hobbie de menor preferência entre os homens?\n",
        "df.loc[(df['genero']=='Masculino')].groupby('hobbies')['hobbies'].count().sort_values(ascending=True).head(1)"
      ],
      "metadata": {
        "colab": {
          "base_uri": "https://localhost:8080/"
        },
        "id": "Sxu73VmZkK2i",
        "outputId": "04c493b3-490b-47e4-8521-0bc6f1283702"
      },
      "execution_count": 59,
      "outputs": [
        {
          "output_type": "execute_result",
          "data": {
            "text/plain": [
              "hobbies\n",
              "Escutar música    153\n",
              "Name: hobbies, dtype: int64"
            ]
          },
          "metadata": {},
          "execution_count": 59
        }
      ]
    },
    {
      "cell_type": "code",
      "source": [
        "#Qual o hobbie de menor preferência entre as mulheres que gostam de tartaruga? \n",
        "filtrando = df.loc[(df['genero']=='Feminino')&(df['animal_estimacao']=='tartaruga')]\n",
        "#agrupando\n",
        "agrupando  = filtrando.groupby('hobbies')['hobbies'].count()\n",
        "#ordenando \n",
        "agrupando.sort_values(ascending=True).head(1)"
      ],
      "metadata": {
        "colab": {
          "base_uri": "https://localhost:8080/"
        },
        "id": "bkW2qSH7tyHI",
        "outputId": "b6333e9a-5d15-44f6-cb4d-fbac4731c00c"
      },
      "execution_count": 60,
      "outputs": [
        {
          "output_type": "execute_result",
          "data": {
            "text/plain": [
              "hobbies\n",
              "Dormir    11\n",
              "Name: hobbies, dtype: int64"
            ]
          },
          "metadata": {},
          "execution_count": 60
        }
      ]
    },
    {
      "cell_type": "code",
      "source": [
        "#Qual a bebida favorita entre os mulheres e homens? respectivamente?\n",
        "f=df.loc[(df['genero']=='Feminino')].groupby(['bebida_favorita','genero'])['genero'].count().sort_values(ascending=False).head(1)\n",
        "m=df.loc[(df['genero']=='Masculino')].groupby(['bebida_favorita','genero'])['genero'].count().sort_values(ascending=False).head(1)\n",
        "print(f)\n",
        "print(m)\n"
      ],
      "metadata": {
        "colab": {
          "base_uri": "https://localhost:8080/"
        },
        "id": "zHHtLvjGuVYK",
        "outputId": "e5f617ec-323e-4d18-c1c2-6a9630a109f3"
      },
      "execution_count": 61,
      "outputs": [
        {
          "output_type": "stream",
          "name": "stdout",
          "text": [
            "bebida_favorita  genero  \n",
            "Cerveja          Feminino    138\n",
            "Name: genero, dtype: int64\n",
            "bebida_favorita  genero   \n",
            "Café             Masculino    258\n",
            "Name: genero, dtype: int64\n"
          ]
        }
      ]
    },
    {
      "cell_type": "code",
      "source": [
        "#Qual é a média de idade das pessoas que têm como hobbie assistir TV? \n",
        "df.loc[(df['hobbies']=='Assistir TV')]['idade'].mean()"
      ],
      "metadata": {
        "colab": {
          "base_uri": "https://localhost:8080/"
        },
        "id": "4yylUZq8vy1s",
        "outputId": "d8010772-9be2-4483-b2af-425449e5a549"
      },
      "execution_count": 62,
      "outputs": [
        {
          "output_type": "execute_result",
          "data": {
            "text/plain": [
              "45.77566539923954"
            ]
          },
          "metadata": {},
          "execution_count": 62
        }
      ]
    },
    {
      "cell_type": "code",
      "source": [
        "#Quantas pessoas têm como hobbie pintar quadros e qual média de idade delas, respectivamente? \n",
        "df.loc[(df['hobbies']=='Pintar quadros')]['idade'].describe()"
      ],
      "metadata": {
        "colab": {
          "base_uri": "https://localhost:8080/"
        },
        "id": "o2WdScIxwRWk",
        "outputId": "87a7cb28-1010-4cca-f5fe-126aa12d0ee7"
      },
      "execution_count": 63,
      "outputs": [
        {
          "output_type": "execute_result",
          "data": {
            "text/plain": [
              "count    260.000000\n",
              "mean      46.007692\n",
              "std       14.763513\n",
              "min       22.000000\n",
              "25%       32.750000\n",
              "50%       45.000000\n",
              "75%       58.250000\n",
              "max       72.000000\n",
              "Name: idade, dtype: float64"
            ]
          },
          "metadata": {},
          "execution_count": 63
        }
      ]
    },
    {
      "cell_type": "code",
      "source": [
        "#Quantas pessoas, de modo geral, gostam de gatos?  \n",
        "df.loc[df['animal_estimacao']=='gato'].count()"
      ],
      "metadata": {
        "colab": {
          "base_uri": "https://localhost:8080/"
        },
        "id": "RFos9dFB1iqk",
        "outputId": "713c6a57-d29a-4ce5-cd4e-5a0dea895297"
      },
      "execution_count": 64,
      "outputs": [
        {
          "output_type": "execute_result",
          "data": {
            "text/plain": [
              "cod_pessoa          864\n",
              "data_coleta         864\n",
              "genero              864\n",
              "data_nascimento     864\n",
              "animal_estimacao    864\n",
              "clima               864\n",
              "bebida_favorita     864\n",
              "hobbies             864\n",
              "idade               864\n",
              "dtype: int64"
            ]
          },
          "metadata": {},
          "execution_count": 64
        }
      ]
    },
    {
      "cell_type": "code",
      "source": [
        "#Quantas pessoas do gênero masculino gostam de peixe? \n",
        "df.loc[(df['genero']=='Masculino')&(df['animal_estimacao']=='peixe')].count()"
      ],
      "metadata": {
        "colab": {
          "base_uri": "https://localhost:8080/"
        },
        "id": "e5-PvMtz1zjq",
        "outputId": "3725323a-be83-49dc-eb78-e89e4fff5d28"
      },
      "execution_count": 65,
      "outputs": [
        {
          "output_type": "execute_result",
          "data": {
            "text/plain": [
              "cod_pessoa          274\n",
              "data_coleta         274\n",
              "genero              274\n",
              "data_nascimento     274\n",
              "animal_estimacao    274\n",
              "clima               274\n",
              "bebida_favorita     274\n",
              "hobbies             274\n",
              "idade               274\n",
              "dtype: int64"
            ]
          },
          "metadata": {},
          "execution_count": 65
        }
      ]
    },
    {
      "cell_type": "code",
      "source": [
        "#Quantas pessoas gostam do clima quente? \n",
        "df.loc[(df['clima']=='quente')].shape[0]"
      ],
      "metadata": {
        "colab": {
          "base_uri": "https://localhost:8080/"
        },
        "id": "R6Kl85d72Dpq",
        "outputId": "46aacafa-75ed-4325-baba-16b7c276206d"
      },
      "execution_count": 66,
      "outputs": [
        {
          "output_type": "execute_result",
          "data": {
            "text/plain": [
              "693"
            ]
          },
          "metadata": {},
          "execution_count": 66
        }
      ]
    }
  ]
}