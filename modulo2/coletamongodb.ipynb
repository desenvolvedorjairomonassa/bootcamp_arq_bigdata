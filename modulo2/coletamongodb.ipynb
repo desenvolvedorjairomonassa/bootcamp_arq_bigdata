{
  "nbformat": 4,
  "nbformat_minor": 0,
  "metadata": {
    "colab": {
      "name": "Cópia de Analisemongodb.ipynb",
      "provenance": []
    },
    "kernelspec": {
      "name": "python3",
      "display_name": "Python 3"
    },
    "language_info": {
      "name": "python"
    }
  },
  "cells": [
    {
      "cell_type": "code",
      "execution_count": null,
      "metadata": {
        "id": "dGu8-lzV35u0"
      },
      "outputs": [],
      "source": [
        "#instalando o pymongo para conectar com mongodb cloud (atlasy)\n",
        "!pip uninstall pymongo\n",
        "!pip install pymongo[srv] "
      ]
    },
    {
      "cell_type": "code",
      "source": [
        "#importando pandas\n",
        "import pandas as pd"
      ],
      "metadata": {
        "id": "J9dZadc7IaEH"
      },
      "execution_count": null,
      "outputs": []
    },
    {
      "cell_type": "code",
      "source": [
        "#importando json\n",
        "df = pd.read_json('https://raw.githubusercontent.com/desenvolvedorjairomonassa/bootcamp_arq_bigdata/main/modulo2/lista_jogadores_chess..json')"
      ],
      "metadata": {
        "id": "nlb9ZtWoMBv8"
      },
      "execution_count": null,
      "outputs": []
    },
    {
      "cell_type": "code",
      "source": [
        "#colocando o json na lista\n",
        "users = []\n",
        "for user in df.itertuples():\n",
        "    users.append( user.user )\n",
        "#exemplos\n",
        "users[:1]"
      ],
      "metadata": {
        "colab": {
          "base_uri": "https://localhost:8080/"
        },
        "id": "1ghKE4MQMnrU",
        "outputId": "50974aca-97a9-4d88-8bcd-9879fa6667d6"
      },
      "execution_count": null,
      "outputs": [
        {
          "output_type": "execute_result",
          "data": {
            "text/plain": [
              "[{'@id': 'https://api.chess.com/pub/player/123lt',\n",
              "  'avatar': 'https://images.chesscomfiles.com/uploads/v1/user/18800602.e26b721f.200x200o.e738019a328a.jpeg',\n",
              "  'country': 'https://api.chess.com/pub/country/CN',\n",
              "  'followers': 36,\n",
              "  'is_streamer': False,\n",
              "  'joined': 1410059361,\n",
              "  'last_online': 1615967972,\n",
              "  'name': 'Tingjie Lei',\n",
              "  'player_id': 18800602,\n",
              "  'status': 'premium',\n",
              "  'title': 'GM',\n",
              "  'url': 'https://www.chess.com/member/123lt',\n",
              "  'username': '123lt'}]"
            ]
          },
          "metadata": {},
          "execution_count": 10
        }
      ]
    },
    {
      "cell_type": "code",
      "source": [
        "#IMPORTANDO PYMONGO\n",
        "MONGO_PASSWORD = '***************'\n",
        "MONGO_USER = '*************'\n",
        "DATABASE = 'chess'\n",
        "import pymongo\n",
        "import json"
      ],
      "metadata": {
        "id": "x9Kro-hxMs2U"
      },
      "execution_count": null,
      "outputs": []
    },
    {
      "cell_type": "code",
      "source": [
        "#TESNTANDO NO BANCO\n",
        "try:    \n",
        "  client = pymongo.MongoClient(\"mongodb+srv://%s:%s@monassa.vgddz.mongodb.net/%s?retryWrites=true&w=majority\"%(MONGO_USER,MONGO_PASSWORD,DATABASE))        \n",
        "  #db = client.test\n",
        "  db = client.get_database(DATABASE)\n",
        "  print('conectou')  \n",
        "  print(db.chess3)    \n",
        "  collection = db.chess3\n",
        "  print(type(collection))\n",
        "  contagem = collection.count_documents({})\n",
        "  print(contagem)\n",
        "except Exception as inst:       \n",
        "  print('erro no acesso ao banco coleção chess : %s' %(inst))    "
      ],
      "metadata": {
        "colab": {
          "base_uri": "https://localhost:8080/"
        },
        "id": "bC6B2hA5OPXT",
        "outputId": "840178d6-4370-40c2-d3d1-ac72441a99bc"
      },
      "execution_count": null,
      "outputs": [
        {
          "output_type": "stream",
          "name": "stdout",
          "text": [
            "conectou\n",
            "Collection(Database(MongoClient(host=['monassa-shard-00-00.vgddz.mongodb.net:27017', 'monassa-shard-00-01.vgddz.mongodb.net:27017', 'monassa-shard-00-02.vgddz.mongodb.net:27017'], document_class=dict, tz_aware=False, connect=True, retrywrites=True, w='majority', authsource='admin', replicaset='Monassa-shard-0', tls=True), 'chess'), 'chess3')\n",
            "<class 'pymongo.collection.Collection'>\n",
            "0\n"
          ]
        }
      ]
    },
    {
      "cell_type": "code",
      "source": [
        "#INCLUINDO NO BANCO\n",
        "try:    \n",
        "  client = pymongo.MongoClient(\"mongodb+srv://%s:%s@monassa.vgddz.mongodb.net/%s?retryWrites=true&w=majority\"%(MONGO_USER,MONGO_PASSWORD,DATABASE))        \n",
        "  #db = client.test\n",
        "  db = client.get_database(DATABASE)\n",
        "  collection = db.chess3\n",
        "  for user in users:\n",
        "    user_id = collection.insert_one(user)\n",
        "    #print(user_id)  \n",
        "except Exception as inst:       \n",
        "  print('erro no acesso ao banco coleção chess : %s' %(inst))  "
      ],
      "metadata": {
        "id": "HJFDn-F3Ukal"
      },
      "execution_count": null,
      "outputs": []
    },
    {
      "cell_type": "code",
      "source": [
        "#Quantos registros possuem na base de dados do chess?\n",
        "count = db.chess3.estimated_document_count()\n",
        "count"
      ],
      "metadata": {
        "colab": {
          "base_uri": "https://localhost:8080/"
        },
        "id": "Sfbr7uPunoq1",
        "outputId": "78200c1b-3500-48d9-d81d-07a3f9e02687"
      },
      "execution_count": null,
      "outputs": [
        {
          "output_type": "execute_result",
          "data": {
            "text/plain": [
              "1332"
            ]
          },
          "metadata": {},
          "execution_count": 16
        }
      ]
    },
    {
      "cell_type": "code",
      "source": [
        "# or Quantos registros possuem na base de dados do chess?\n",
        "count = collection.count_documents({})\n",
        "count"
      ],
      "metadata": {
        "colab": {
          "base_uri": "https://localhost:8080/"
        },
        "id": "SFnKo7e2oLEf",
        "outputId": "0339d599-d1ab-40fd-cbc9-2705eff329de"
      },
      "execution_count": null,
      "outputs": [
        {
          "output_type": "execute_result",
          "data": {
            "text/plain": [
              "1332"
            ]
          },
          "metadata": {},
          "execution_count": 43
        }
      ]
    },
    {
      "cell_type": "code",
      "source": [
        "# Quantos jogadores são de Portugal (PT)?  \n",
        "count = db.chess3.count_documents({ \"country\": { \"$regex\": \"PT\", \"$options\": \"i\" } })\n",
        "count"
      ],
      "metadata": {
        "colab": {
          "base_uri": "https://localhost:8080/"
        },
        "id": "PnVKo8Bcomoq",
        "outputId": "8e378575-36aa-40b5-9059-dc717f8dfcb1"
      },
      "execution_count": null,
      "outputs": [
        {
          "output_type": "execute_result",
          "data": {
            "text/plain": [
              "2"
            ]
          },
          "metadata": {},
          "execution_count": 20
        }
      ]
    },
    {
      "cell_type": "code",
      "source": [
        "#Quantos seguidores (número de pessoas) possui o jogador Robert L. Hess? \n",
        "seguidores = 0\n",
        "for jogador in db.chess3.find({ \"name\": 'Robert L. Hess'}):\n",
        "    seguidores += jogador['followers']\n",
        "   \n",
        "seguidores"
      ],
      "metadata": {
        "colab": {
          "base_uri": "https://localhost:8080/"
        },
        "id": "jmWML3ZMowxn",
        "outputId": "06472f36-b64a-47b7-8062-fb6243801cf8"
      },
      "execution_count": null,
      "outputs": [
        {
          "output_type": "execute_result",
          "data": {
            "text/plain": [
              "23760"
            ]
          },
          "metadata": {},
          "execution_count": 21
        }
      ]
    },
    {
      "cell_type": "code",
      "source": [
        "#Quantas pessoas do dataset NÃO são streamer? \n",
        "streamer = db.chess3.count_documents({ \"is_streamer\": False})\n",
        "   \n",
        "streamer"
      ],
      "metadata": {
        "colab": {
          "base_uri": "https://localhost:8080/"
        },
        "id": "_x0Ey_GHpNAq",
        "outputId": "510b4748-ef5a-4ac2-86a9-f557eb9603a8"
      },
      "execution_count": null,
      "outputs": [
        {
          "output_type": "execute_result",
          "data": {
            "text/plain": [
              "1266"
            ]
          },
          "metadata": {},
          "execution_count": 22
        }
      ]
    },
    {
      "cell_type": "code",
      "source": [
        "#Quantos jogadores possuem mais de 50.000 seguidores? (operador maior ou igual a que?) \n",
        "followers = db.chess3.count_documents({ \"followers\": { \"$gt\": 50000 }})\n",
        "followers"
      ],
      "metadata": {
        "colab": {
          "base_uri": "https://localhost:8080/"
        },
        "id": "u6qa3db_qz-8",
        "outputId": "1436d2a6-2774-4006-cb2b-2c516d44e043"
      },
      "execution_count": null,
      "outputs": [
        {
          "output_type": "execute_result",
          "data": {
            "text/plain": [
              "1"
            ]
          },
          "metadata": {},
          "execution_count": 23
        }
      ]
    },
    {
      "cell_type": "code",
      "source": [
        "cretateCollection.db{'forum_debates'}"
      ],
      "metadata": {
        "colab": {
          "base_uri": "https://localhost:8080/",
          "height": 131
        },
        "id": "EzVsZdpoMYXG",
        "outputId": "5f474d6f-01d8-47a5-8564-7a987654db8f"
      },
      "execution_count": null,
      "outputs": [
        {
          "output_type": "error",
          "ename": "SyntaxError",
          "evalue": "ignored",
          "traceback": [
            "\u001b[0;36m  File \u001b[0;32m\"<ipython-input-28-ebccf9327e13>\"\u001b[0;36m, line \u001b[0;32m1\u001b[0m\n\u001b[0;31m    cretateCollection.db{'forum_debates'}\u001b[0m\n\u001b[0m                        ^\u001b[0m\n\u001b[0;31mSyntaxError\u001b[0m\u001b[0;31m:\u001b[0m invalid syntax\n"
          ]
        }
      ]
    },
    {
      "cell_type": "code",
      "source": [
        "#Qual o status que o jogador Rafael Leitão possui?\n",
        "for jogador in db.chess3.find({ \"name\": \"Rafael Leitao\"}):    \n",
        "    print(jogador['status'])"
      ],
      "metadata": {
        "colab": {
          "base_uri": "https://localhost:8080/"
        },
        "id": "Av2b21Xcr0T4",
        "outputId": "2f1537ca-0f28-48f8-fb7b-34ea662a695b"
      },
      "execution_count": null,
      "outputs": [
        {
          "output_type": "stream",
          "name": "stdout",
          "text": [
            "premium\n"
          ]
        }
      ]
    },
    {
      "cell_type": "code",
      "source": [
        "#Quais são os jogadores que possuem mais que 45.000 seguidores?\n",
        "followers = db.chess3.count_documents({ \"followers\": { \"$gt\": 45000 }})\n",
        "print(followers)\n",
        "for jogador in db.chess3.find({ \"followers\": { \"$gt\": 45000 }}):    \n",
        "    print(jogador['name'])"
      ],
      "metadata": {
        "colab": {
          "base_uri": "https://localhost:8080/"
        },
        "id": "-OLJPIAasIhe",
        "outputId": "14bdc362-bade-4f72-b3a6-c519ba4c2b8e"
      },
      "execution_count": null,
      "outputs": [
        {
          "output_type": "stream",
          "name": "stdout",
          "text": [
            "2\n",
            "Hikaru Nakamura\n",
            "Magnus Carlsen\n"
          ]
        }
      ]
    },
    {
      "cell_type": "code",
      "source": [
        "#Qual a sigla do país do jogador George Giorgadze?\n",
        "for jogador in db.chess.find({ \"name\": 'George Giorgadze'}):    \n",
        "    print(jogador)"
      ],
      "metadata": {
        "colab": {
          "base_uri": "https://localhost:8080/"
        },
        "id": "UfNpw0DTsn-9",
        "outputId": "54738e90-be5c-4708-b73a-b59faa5c77fe"
      },
      "execution_count": null,
      "outputs": [
        {
          "output_type": "stream",
          "name": "stdout",
          "text": [
            "{'_id': ObjectId('6218fcfce7e17cbbde58e575'), 'avatar': 'https://images.chesscomfiles.com/uploads/v1/user/73722206.b1f455f1.200x200o.5e9bd05439e6.jpeg', 'player_id': 73722206, '@id': 'https://api.chess.com/pub/player/georgegiorgadze', 'url': 'https://www.chess.com/member/GeorgeGiorgadze', 'name': 'George Giorgadze', 'username': 'georgegiorgadze', 'title': 'GM', 'followers': 7, 'country': 'https://api.chess.com/pub/country/GE', 'location': 'Tbilisi', 'last_online': 1612347765, 'joined': 1584469412, 'status': 'premium', 'is_streamer': False}\n"
          ]
        }
      ]
    }
  ]
}