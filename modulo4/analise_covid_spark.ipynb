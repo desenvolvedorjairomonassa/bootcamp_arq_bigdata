{
 "cells": [
  {
   "cell_type": "code",
   "execution_count": 20,
   "id": "f21e5b81",
   "metadata": {},
   "outputs": [],
   "source": [
    "from pyspark.sql import SparkSession\n",
    "from pyspark.sql import functions as f\n",
    "from pyspark.sql.functions import *"
   ]
  },
  {
   "cell_type": "code",
   "execution_count": 3,
   "id": "b483e03b",
   "metadata": {},
   "outputs": [],
   "source": [
    "#Start session Context com nome ENEM\n",
    "spark = SparkSession.builder.appName(\"COVID\").getOrCreate()"
   ]
  },
  {
   "cell_type": "code",
   "execution_count": 52,
   "id": "af37be42",
   "metadata": {},
   "outputs": [
    {
     "name": "stdout",
     "output_type": "stream",
     "text": [
      "Wall time: 166 ms\n"
     ]
    }
   ],
   "source": [
    "%%time\n",
    "covid = (\n",
    "    spark\n",
    "    .read\n",
    "    .format(\"csv\")\n",
    "    .options(header=True, sep=\",\")\n",
    "    .load(\"WHO-COVID-19-global-data.csv\")\n",
    " )\n"
   ]
  },
  {
   "cell_type": "code",
   "execution_count": 87,
   "id": "2393eb76-9dad-43fc-b4f4-1313d22410ea",
   "metadata": {},
   "outputs": [],
   "source": [
    " covid = covid.withColumn('Date_reported', to_date(unix_timestamp(col('Date_reported'), 'yyyy-MM-dd').cast(\"timestamp\")))\n",
    " covid = covid.withColumn(\"New_cases\",covid.New_cases.cast('integer')) \n",
    " covid = covid.withColumn(\"Cumulative_cases\",covid.Cumulative_cases.cast('integer')) \n",
    " covid = covid.withColumn(\"New_deaths\",covid.New_deaths.cast('integer')) \n",
    " covid = covid.withColumn(\"Cumulative_deaths\",covid.Cumulative_deaths.cast('integer')) "
   ]
  },
  {
   "cell_type": "code",
   "execution_count": 88,
   "id": "9c5f90cb",
   "metadata": {
    "scrolled": true,
    "tags": []
   },
   "outputs": [
    {
     "name": "stdout",
     "output_type": "stream",
     "text": [
      "root\n",
      " |-- Date_reported: date (nullable = true)\n",
      " |-- Country_code: string (nullable = true)\n",
      " |-- Country: string (nullable = true)\n",
      " |-- WHO_region: string (nullable = true)\n",
      " |-- New_cases: integer (nullable = true)\n",
      " |-- Cumulative_cases: integer (nullable = true)\n",
      " |-- New_deaths: integer (nullable = true)\n",
      " |-- Cumulative_deaths: integer (nullable = true)\n",
      "\n"
     ]
    }
   ],
   "source": [
    "covid.printSchema()"
   ]
  },
  {
   "cell_type": "code",
   "execution_count": 82,
   "id": "d39bcbb2",
   "metadata": {},
   "outputs": [
    {
     "name": "stdout",
     "output_type": "stream",
     "text": [
      "Wall time: 179 ms\n"
     ]
    },
    {
     "data": {
      "text/plain": [
       "200006"
      ]
     },
     "execution_count": 82,
     "metadata": {},
     "output_type": "execute_result"
    }
   ],
   "source": [
    "%%time\n",
    "#quantidade de registros\n",
    "covid.count()"
   ]
  },
  {
   "cell_type": "code",
   "execution_count": 83,
   "id": "941d01b0-6a81-4e32-9e5a-01c51a93d05a",
   "metadata": {},
   "outputs": [
    {
     "name": "stdout",
     "output_type": "stream",
     "text": [
      "+-------------+------------+-----------+----------+---------+----------------+----------+-----------------+\n",
      "|Date_reported|Country_code|    Country|WHO_region|New_cases|Cumulative_cases|New_deaths|Cumulative_deaths|\n",
      "+-------------+------------+-----------+----------+---------+----------------+----------+-----------------+\n",
      "|   2020-01-03|          AF|Afghanistan|      EMRO|        0|               0|         0|                0|\n",
      "|   2020-01-04|          AF|Afghanistan|      EMRO|        0|               0|         0|                0|\n",
      "|   2020-01-05|          AF|Afghanistan|      EMRO|        0|               0|         0|                0|\n",
      "|   2020-01-06|          AF|Afghanistan|      EMRO|        0|               0|         0|                0|\n",
      "|   2020-01-07|          AF|Afghanistan|      EMRO|        0|               0|         0|                0|\n",
      "|   2020-01-08|          AF|Afghanistan|      EMRO|        0|               0|         0|                0|\n",
      "|   2020-01-09|          AF|Afghanistan|      EMRO|        0|               0|         0|                0|\n",
      "|   2020-01-10|          AF|Afghanistan|      EMRO|        0|               0|         0|                0|\n",
      "|   2020-01-11|          AF|Afghanistan|      EMRO|        0|               0|         0|                0|\n",
      "|   2020-01-12|          AF|Afghanistan|      EMRO|        0|               0|         0|                0|\n",
      "|   2020-01-13|          AF|Afghanistan|      EMRO|        0|               0|         0|                0|\n",
      "|   2020-01-14|          AF|Afghanistan|      EMRO|        0|               0|         0|                0|\n",
      "|   2020-01-15|          AF|Afghanistan|      EMRO|        0|               0|         0|                0|\n",
      "|   2020-01-16|          AF|Afghanistan|      EMRO|        0|               0|         0|                0|\n",
      "|   2020-01-17|          AF|Afghanistan|      EMRO|        0|               0|         0|                0|\n",
      "|   2020-01-18|          AF|Afghanistan|      EMRO|        0|               0|         0|                0|\n",
      "|   2020-01-19|          AF|Afghanistan|      EMRO|        0|               0|         0|                0|\n",
      "|   2020-01-20|          AF|Afghanistan|      EMRO|        0|               0|         0|                0|\n",
      "|   2020-01-21|          AF|Afghanistan|      EMRO|        0|               0|         0|                0|\n",
      "|   2020-01-22|          AF|Afghanistan|      EMRO|        0|               0|         0|                0|\n",
      "+-------------+------------+-----------+----------+---------+----------------+----------+-----------------+\n",
      "only showing top 20 rows\n",
      "\n"
     ]
    }
   ],
   "source": [
    "covid.show()"
   ]
  },
  {
   "cell_type": "code",
   "execution_count": 106,
   "id": "47a66b84-6136-4e49-bf9e-6f61ec101791",
   "metadata": {},
   "outputs": [
    {
     "name": "stdout",
     "output_type": "stream",
     "text": [
      "+-------------+------------+-------+----------+---------+----------------+----------+-----------------+\n",
      "|Date_reported|Country_code|Country|WHO_region|New_cases|Cumulative_cases|New_deaths|Cumulative_deaths|\n",
      "+-------------+------------+-------+----------+---------+----------------+----------+-----------------+\n",
      "|   2020-02-27|          BR| Brazil|      AMRO|        1|               1|         0|                0|\n",
      "+-------------+------------+-------+----------+---------+----------------+----------+-----------------+\n",
      "only showing top 1 row\n",
      "\n",
      "Wall time: 338 ms\n"
     ]
    }
   ],
   "source": [
    "%%time\n",
    "# primeiro caso no brasil\n",
    "consulta1 = (covid.filter((covid.Country == 'Brazil')&(covid.New_cases >0)).sort(col(\"Date_reported\").asc()) )\n",
    "consulta1.show(1)"
   ]
  },
  {
   "cell_type": "code",
   "execution_count": 108,
   "id": "6f36695d-031b-4845-981a-443b6fac564d",
   "metadata": {},
   "outputs": [
    {
     "name": "stdout",
     "output_type": "stream",
     "text": [
      "+-------------+------------+-------+----------+---------+----------------+----------+-----------------+\n",
      "|Date_reported|Country_code|Country|WHO_region|New_cases|Cumulative_cases|New_deaths|Cumulative_deaths|\n",
      "+-------------+------------+-------+----------+---------+----------------+----------+-----------------+\n",
      "|   2022-02-05|          BR| Brazil|      AMRO|   298408|        26091520|      1041|           630001|\n",
      "+-------------+------------+-------+----------+---------+----------------+----------+-----------------+\n",
      "only showing top 1 row\n",
      "\n",
      "Wall time: 282 ms\n"
     ]
    }
   ],
   "source": [
    "%%time\n",
    "#Qual foi o dia em que o Brasil reportou o maior número de casos?\n",
    "consulta2 = (covid.filter((covid.Country == 'Brazil')&(covid.New_cases >0)).sort(col(\"New_cases\").desc()) )\n",
    "consulta2.show(1)"
   ]
  },
  {
   "cell_type": "code",
   "execution_count": 116,
   "id": "af218a20-87f0-48b5-81fe-e057e0d96995",
   "metadata": {},
   "outputs": [
    {
     "name": "stdout",
     "output_type": "stream",
     "text": [
      "+---------+\n",
      "|New_cases|\n",
      "+---------+\n",
      "|   298408|\n",
      "+---------+\n",
      "only showing top 1 row\n",
      "\n",
      "Wall time: 247 ms\n"
     ]
    }
   ],
   "source": [
    "%%time\n",
    "#Quantos casos foram reportados nesse dia?\n",
    "consulta3 = (covid\n",
    "             .filter((covid.Country == 'Brazil')&(covid.New_cases >0))\n",
    "             .sort(col(\"New_cases\").desc())\n",
    "             .select('New_cases')\n",
    "            )\n",
    "consulta3.show(1)"
   ]
  },
  {
   "cell_type": "code",
   "execution_count": 117,
   "id": "5ae829db-b2ca-453a-9fc6-d41b866e84b6",
   "metadata": {},
   "outputs": [
    {
     "name": "stdout",
     "output_type": "stream",
     "text": [
      "+-------------+-----+\n",
      "|Date_reported|Total|\n",
      "+-------------+-----+\n",
      "|   2020-01-04|    3|\n",
      "|   2020-01-06|    3|\n",
      "|   2020-01-11|    1|\n",
      "|   2020-01-12|   42|\n",
      "|   2020-01-13|    1|\n",
      "|   2020-01-14|    5|\n",
      "|   2020-01-17|    4|\n",
      "|   2020-01-18|    4|\n",
      "|   2020-01-19|   77|\n",
      "|   2020-01-20|   79|\n",
      "|   2020-01-21|   93|\n",
      "|   2020-01-22|  148|\n",
      "|   2020-01-23|  134|\n",
      "|   2020-01-24|  275|\n",
      "|   2020-01-25|  468|\n",
      "|   2020-01-26|  704|\n",
      "|   2020-01-27|  790|\n",
      "|   2020-01-28| 1779|\n",
      "|   2020-01-29| 1491|\n",
      "|   2020-01-30| 1756|\n",
      "+-------------+-----+\n",
      "only showing top 20 rows\n",
      "\n",
      "Wall time: 901 ms\n"
     ]
    }
   ],
   "source": [
    "%%time\n",
    "consulta4 = (covid.filter( (covid.New_cases > 0 ))\n",
    "                          .groupby('Date_reported')\n",
    "                          .agg( f.sum('New_Cases' ).alias('Total') )\n",
    "                          .where( covid.Date_reported < '2020-02-01' )\n",
    "                          .sort('Date_reported')\n",
    "                         \n",
    "            )\n",
    "consulta4.show()"
   ]
  },
  {
   "cell_type": "code",
   "execution_count": 123,
   "id": "32ee078c-985a-41dd-a6ab-7f3aa0d13938",
   "metadata": {},
   "outputs": [
    {
     "name": "stdout",
     "output_type": "stream",
     "text": [
      "+--------------------+--------+\n",
      "|             Country|   Total|\n",
      "+--------------------+--------+\n",
      "|United States of ...|20378558|\n",
      "|              France| 9069357|\n",
      "|               India| 6463636|\n",
      "|               Italy| 4944057|\n",
      "|  The United Kingdom| 3983563|\n",
      "|               Spain| 3643565|\n",
      "|              Brazil| 2950788|\n",
      "|             Germany| 2788614|\n",
      "|           Argentina| 2672438|\n",
      "|              Turkey| 2084857|\n",
      "|           Australia| 1789613|\n",
      "|              Israel| 1474569|\n",
      "|  Russian Federation| 1361095|\n",
      "|              Mexico| 1306158|\n",
      "|            Portugal| 1253029|\n",
      "|         Netherlands| 1195282|\n",
      "|             Belgium| 1050642|\n",
      "|               Japan|  936313|\n",
      "|              Canada|  929074|\n",
      "|                Peru|  908994|\n",
      "+--------------------+--------+\n",
      "only showing top 20 rows\n",
      "\n",
      "Wall time: 1.33 s\n"
     ]
    }
   ],
   "source": [
    "%%time\n",
    "#Qual país apresentou o maior número de casos em Janeiro de 2022?\n",
    "consulta5 = (covid           \n",
    "             .filter((covid.Date_reported >= '2022-01-01')&(covid.Date_reported <= '2022-01-31'))             \n",
    "             .groupby('Country')\n",
    "             .agg( f.sum('New_Cases' ).alias('Total') )\n",
    "             .sort(col(\"Total\").desc())\n",
    "            )\n",
    "consulta5.show()"
   ]
  },
  {
   "cell_type": "code",
   "execution_count": 125,
   "id": "1b9ebf6b",
   "metadata": {},
   "outputs": [
    {
     "name": "stdout",
     "output_type": "stream",
     "text": [
      "+---------+\n",
      "|New_cases|\n",
      "+---------+\n",
      "|  1252717|\n",
      "+---------+\n",
      "only showing top 1 row\n",
      "\n",
      "Wall time: 278 ms\n"
     ]
    }
   ],
   "source": [
    "%%time\n",
    "#Qual foi o maior número de casos já reportado?\n",
    "consulta6 = (covid.select('New_cases').sort(col(\"New_Cases\").desc()))\n",
    "consulta6.show(1)    "
   ]
  },
  {
   "cell_type": "code",
   "execution_count": 151,
   "id": "56b6183b",
   "metadata": {},
   "outputs": [
    {
     "name": "stdout",
     "output_type": "stream",
     "text": [
      "+-----------------+\n",
      "|       sum(media)|\n",
      "+-----------------+\n",
      "|2141508.185045628|\n",
      "+-----------------+\n",
      "\n",
      "+-------------+------------------+\n",
      "|Date_reported|             media|\n",
      "+-------------+------------------+\n",
      "|   2020-08-24|1102.9831223628692|\n",
      "|   2021-01-27|2159.8354430379745|\n",
      "|   2021-06-22|1297.8776371308018|\n",
      "|   2021-08-27|3026.1772151898736|\n",
      "|   2021-10-11|1484.0168776371308|\n",
      "|   2021-11-13|2158.3586497890296|\n",
      "|   2021-12-18|3116.5485232067513|\n",
      "|   2022-03-28| 4159.881856540084|\n",
      "|   2020-01-21|0.3924050632911392|\n",
      "|   2020-07-24| 1230.253164556962|\n",
      "|   2020-08-05| 936.7341772151899|\n",
      "|   2020-11-29| 2482.168776371308|\n",
      "|   2021-10-02|2045.4177215189873|\n",
      "|   2021-11-25|2741.7763713080167|\n",
      "|   2020-04-30|323.57805907172997|\n",
      "|   2020-08-28| 1231.126582278481|\n",
      "|   2020-08-29|1204.6160337552742|\n",
      "|   2022-01-31|11847.350210970464|\n",
      "|   2020-10-04|  1404.26582278481|\n",
      "|   2021-04-29|3703.2236286919833|\n",
      "+-------------+------------------+\n",
      "only showing top 20 rows\n",
      "\n"
     ]
    }
   ],
   "source": [
    "#Qual é a média de casos reportados por dia?\n",
    "consulta7 = (covid.groupby('Date_reported').agg(f.mean('New_cases').alias('media'))\n",
    "            \n",
    "            )\n",
    "consulta7.agg(f.sum('media')).show()\n",
    "\n",
    "consulta7.show()   \n",
    "            "
   ]
  },
  {
   "cell_type": "code",
   "execution_count": 148,
   "id": "1a68e0e3-da82-4d76-80d1-199daa48698d",
   "metadata": {},
   "outputs": [
    {
     "name": "stdout",
     "output_type": "stream",
     "text": [
      "+--------------------+--------+\n",
      "|             Country|   Total|\n",
      "+--------------------+--------+\n",
      "|United States of ...|80174978|\n",
      "|               India|43060086|\n",
      "|              Brazil|30345654|\n",
      "|              France|27497092|\n",
      "|             Germany|24200596|\n",
      "|  The United Kingdom|21933210|\n",
      "|  Russian Federation|18144788|\n",
      "|   Republic of Korea|16929564|\n",
      "|               Italy|16136057|\n",
      "|              Turkey|15018547|\n",
      "|               Spain|11786036|\n",
      "|            Viet Nam|10563502|\n",
      "|           Argentina| 9072230|\n",
      "|         Netherlands| 8035603|\n",
      "|               Japan| 7660012|\n",
      "|Iran (Islamic Rep...| 7212395|\n",
      "|            Colombia| 6091094|\n",
      "|           Indonesia| 6044150|\n",
      "|              Poland| 5991464|\n",
      "|              Mexico| 5733514|\n",
      "+--------------------+--------+\n",
      "only showing top 20 rows\n",
      "\n",
      "Wall time: 759 ms\n"
     ]
    }
   ],
   "source": [
    "%%time\n",
    "#Qual país apresentou o maior número de casos?\n",
    "consulta8 = (covid           \n",
    "             \n",
    "             .groupby('Country')\n",
    "             .agg( f.sum('New_Cases' ).alias('Total') )\n",
    "             .sort(col(\"Total\").desc())\n",
    "            )\n",
    "consulta8.show()"
   ]
  },
  {
   "cell_type": "code",
   "execution_count": null,
   "id": "518f473a-75c5-48bd-8977-3f665a752ab2",
   "metadata": {},
   "outputs": [],
   "source": []
  }
 ],
 "metadata": {
  "kernelspec": {
   "display_name": "Python 3 (ipykernel)",
   "language": "python",
   "name": "python3"
  },
  "language_info": {
   "codemirror_mode": {
    "name": "ipython",
    "version": 3
   },
   "file_extension": ".py",
   "mimetype": "text/x-python",
   "name": "python",
   "nbconvert_exporter": "python",
   "pygments_lexer": "ipython3",
   "version": "3.9.7"
  }
 },
 "nbformat": 4,
 "nbformat_minor": 5
}
